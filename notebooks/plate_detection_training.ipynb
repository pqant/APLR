{
    "cells": [
        {
            "cell_type": "markdown",
            "id": "4586604a",
            "metadata": {},
            "source": [
                "# Plaka Tespiti - YOLOv8 Eğitimi\n",
                "\n",
                "Bu notebook, UFPR-ALPR veri seti kullanarak plaka tespiti için bir YOLOv8 modeli eğitimi gerçekleştirir."
            ]
        },
        {
            "cell_type": "markdown",
            "id": "6e4a7951",
            "metadata": {},
            "source": [
                "## 1. Kurulum ve İçe Aktarmalar"
            ]
        },
        {
            "cell_type": "code",
            "execution_count": 1,
            "id": "69136a33",
            "metadata": {},
            "outputs": [],
            "source": [
                "import os\n",
                "import sys\n",
                "import cv2\n",
                "import numpy as np\n",
                "import matplotlib.pyplot as plt\n",
                "from ultralytics import YOLO\n",
                "import torch\n",
                "from pathlib import Path\n",
                "import shutil"
            ]
        },
        {
            "cell_type": "code",
            "execution_count": 2,
            "id": "6827558d",
            "metadata": {},
            "outputs": [],
            "source": [
                "# src dizinini yola ekle\n",
                "sys.path.append(os.path.abspath('../src'))"
            ]
        },
        {
            "cell_type": "code",
            "execution_count": 3,
            "id": "7d967de4",
            "metadata": {},
            "outputs": [
                {
                    "name": "stdout",
                    "output_type": "stream",
                    "text": [
                        "2.7.0+cpu\n",
                        "0.22.0+cpu\n"
                    ]
                }
            ],
            "source": [
                "# Özel modülleri içe aktar\n",
                "from plate_detection import PlateDetector\n",
                "from preprocessing import preprocess_image_for_plate_detection\n",
                "\n",
                "import torch\n",
                "import torchvision\n",
                "print(torch.__version__)\n",
                "print(torchvision.__version__)"
            ]
        },
        {
            "cell_type": "markdown",
            "id": "ee490087",
            "metadata": {},
            "source": [
                "## 2. Veri Hazırlama ve Eğitim Parametreleri\n",
                "\n",
                "UFPR-ALPR veri setini YOLOv8 formatına dönüştürmek ve eğitim için parametreleri belirlemek."
            ]
        },
        {
            "cell_type": "code",
            "execution_count": 4,
            "id": "06fc9314",
            "metadata": {},
            "outputs": [
                {
                    "name": "stdout",
                    "output_type": "stream",
                    "text": [
                        "Mevcut cihaz: CPU\n"
                    ]
                }
            ],
            "source": [
                "# Yolları tanımla - UFPR-ALPR veri seti için özelleştirildi\n",
                "dataset_root = '../data/raw/ufpr-alpr'\n",
                "processed_dataset_root = '../data/processed'\n",
                "\n",
                "# GPU kullanımı kontrolü\n",
                "has_gpu = torch.cuda.is_available()\n",
                "device = '0' if has_gpu else 'cpu'\n",
                "print(f\"Mevcut cihaz: {'GPU' if has_gpu else 'CPU'}\")\n",
                "\n",
                "# Eğitim parametreleri - daha hızlı eğitim için optimize edildi\n",
                "epochs = 10  # Toplam eğitim adımı (100 yerine)\n",
                "batch_size = 16  # Toplu iş boyutu\n",
                "img_size = 720  # Görüntü boyutu (640 yerine) - daha hızlı işlem için"
            ]
        },
        {
            "cell_type": "markdown",
            "id": "2122161d",
            "metadata": {},
            "source": [
                "## 3. UFPR-ALPR Veri Setini YOLOv8 Formatına Dönüştürme\n",
                "\n",
                "UFPR-ALPR veri seti, plaka tespiti için özel olarak tasarlanmış bir veri setidir. Bu veri setini YOLOv8 formatına dönüştürmek için `PlateDetector` sınıfındaki `prepare_ufpr_dataset` fonksiyonunu kullanacağız.\n",
                "\n",
                "Bu fonksiyon şunları yapar:\n",
                "1. UFPR-ALPR veri setindeki görüntüleri ve etiketleri okur\n",
                "2. Plaka köşe koordinatlarını YOLO formatına (normalize edilmiş merkez x, merkez y, genişlik, yükseklik) dönüştürür\n",
                "3. Görüntüleri ve etiketleri YOLOv8'in beklediği klasör yapısına kopyalar\n",
                "4. Veri seti için YAML yapılandırma dosyası oluşturur"
            ]
        },
        {
            "cell_type": "code",
            "execution_count": 5,
            "id": "6aef881f",
            "metadata": {},
            "outputs": [],
            "source": [
                "# Çıktı dizinleri oluştur\n",
                "os.makedirs(processed_dataset_root, exist_ok=True)"
            ]
        },
        {
            "cell_type": "code",
            "execution_count": 6,
            "id": "8ce45dd5",
            "metadata": {},
            "outputs": [
                {
                    "name": "stdout",
                    "output_type": "stream",
                    "text": [
                        "UFPR-ALPR veri seti hazırlanıyor...\n",
                        "Veri seti hazırlama başladı...\n",
                        "Toplam görüntü sayısı hesaplanıyor...\n",
                        "Toplam 4500 görüntü işlenecek\n",
                        "\n",
                        "training bölümü işleniyor...\n"
                    ]
                },
                {
                    "name": "stderr",
                    "output_type": "stream",
                    "text": [
                        "training izlemeleri:   5%|▌         | 3/60 [00:06<02:05,  2.20s/it]"
                    ]
                },
                {
                    "name": "stdout",
                    "output_type": "stream",
                    "text": [
                        "\n",
                        "İşlenen görüntü: 100/4500 (2.2%)\n",
                        "Geçen süre: 0.1 dakika\n",
                        "Tahmini kalan süre: 5.5 dakika\n"
                    ]
                },
                {
                    "name": "stderr",
                    "output_type": "stream",
                    "text": [
                        "training izlemeleri:  10%|█         | 6/60 [00:13<01:56,  2.16s/it]"
                    ]
                },
                {
                    "name": "stdout",
                    "output_type": "stream",
                    "text": [
                        "\n",
                        "İşlenen görüntü: 200/4500 (4.4%)\n",
                        "Geçen süre: 0.2 dakika\n",
                        "Tahmini kalan süre: 5.3 dakika\n"
                    ]
                },
                {
                    "name": "stderr",
                    "output_type": "stream",
                    "text": [
                        "training izlemeleri:  17%|█▋        | 10/60 [00:21<01:46,  2.13s/it]"
                    ]
                },
                {
                    "name": "stdout",
                    "output_type": "stream",
                    "text": [
                        "\n",
                        "İşlenen görüntü: 300/4500 (6.7%)\n",
                        "Geçen süre: 0.4 dakika\n",
                        "Tahmini kalan süre: 5.1 dakika\n"
                    ]
                },
                {
                    "name": "stderr",
                    "output_type": "stream",
                    "text": [
                        "training izlemeleri:  22%|██▏       | 13/60 [00:28<01:46,  2.28s/it]"
                    ]
                },
                {
                    "name": "stdout",
                    "output_type": "stream",
                    "text": [
                        "\n",
                        "İşlenen görüntü: 400/4500 (8.9%)\n",
                        "Geçen süre: 0.5 dakika\n",
                        "Tahmini kalan süre: 5.1 dakika\n"
                    ]
                },
                {
                    "name": "stderr",
                    "output_type": "stream",
                    "text": [
                        "training izlemeleri:  27%|██▋       | 16/60 [00:37<02:01,  2.77s/it]"
                    ]
                },
                {
                    "name": "stdout",
                    "output_type": "stream",
                    "text": [
                        "\n",
                        "İşlenen görüntü: 500/4500 (11.1%)\n",
                        "Geçen süre: 0.7 dakika\n",
                        "Tahmini kalan süre: 5.4 dakika\n"
                    ]
                },
                {
                    "name": "stderr",
                    "output_type": "stream",
                    "text": [
                        "training izlemeleri:  33%|███▎      | 20/60 [00:50<02:05,  3.13s/it]"
                    ]
                },
                {
                    "name": "stdout",
                    "output_type": "stream",
                    "text": [
                        "\n",
                        "İşlenen görüntü: 600/4500 (13.3%)\n",
                        "Geçen süre: 0.8 dakika\n",
                        "Tahmini kalan süre: 5.5 dakika\n"
                    ]
                },
                {
                    "name": "stderr",
                    "output_type": "stream",
                    "text": [
                        "training izlemeleri:  38%|███▊      | 23/60 [01:01<02:04,  3.35s/it]"
                    ]
                },
                {
                    "name": "stdout",
                    "output_type": "stream",
                    "text": [
                        "\n",
                        "İşlenen görüntü: 700/4500 (15.6%)\n",
                        "Geçen süre: 1.0 dakika\n",
                        "Tahmini kalan süre: 5.7 dakika\n"
                    ]
                },
                {
                    "name": "stderr",
                    "output_type": "stream",
                    "text": [
                        "training izlemeleri:  43%|████▎     | 26/60 [01:13<02:04,  3.67s/it]"
                    ]
                },
                {
                    "name": "stdout",
                    "output_type": "stream",
                    "text": [
                        "\n",
                        "İşlenen görüntü: 800/4500 (17.8%)\n",
                        "Geçen süre: 1.3 dakika\n",
                        "Tahmini kalan süre: 5.8 dakika\n"
                    ]
                },
                {
                    "name": "stderr",
                    "output_type": "stream",
                    "text": [
                        "training izlemeleri:  50%|█████     | 30/60 [01:28<01:44,  3.49s/it]"
                    ]
                },
                {
                    "name": "stdout",
                    "output_type": "stream",
                    "text": [
                        "\n",
                        "İşlenen görüntü: 900/4500 (20.0%)\n",
                        "Geçen süre: 1.5 dakika\n",
                        "Tahmini kalan süre: 5.9 dakika\n"
                    ]
                },
                {
                    "name": "stderr",
                    "output_type": "stream",
                    "text": [
                        "training izlemeleri:  55%|█████▌    | 33/60 [01:34<01:09,  2.58s/it]"
                    ]
                },
                {
                    "name": "stdout",
                    "output_type": "stream",
                    "text": [
                        "\n",
                        "İşlenen görüntü: 1000/4500 (22.2%)\n",
                        "Geçen süre: 1.6 dakika\n",
                        "Tahmini kalan süre: 5.6 dakika\n"
                    ]
                },
                {
                    "name": "stderr",
                    "output_type": "stream",
                    "text": [
                        "training izlemeleri:  60%|██████    | 36/60 [01:41<01:00,  2.51s/it]"
                    ]
                },
                {
                    "name": "stdout",
                    "output_type": "stream",
                    "text": [
                        "\n",
                        "İşlenen görüntü: 1100/4500 (24.4%)\n",
                        "Geçen süre: 1.7 dakika\n",
                        "Tahmini kalan süre: 5.4 dakika\n"
                    ]
                },
                {
                    "name": "stderr",
                    "output_type": "stream",
                    "text": [
                        "training izlemeleri:  67%|██████▋   | 40/60 [01:54<00:56,  2.85s/it]"
                    ]
                },
                {
                    "name": "stdout",
                    "output_type": "stream",
                    "text": [
                        "\n",
                        "İşlenen görüntü: 1200/4500 (26.7%)\n",
                        "Geçen süre: 1.9 dakika\n",
                        "Tahmini kalan süre: 5.2 dakika\n"
                    ]
                },
                {
                    "name": "stderr",
                    "output_type": "stream",
                    "text": [
                        "training izlemeleri:  72%|███████▏  | 43/60 [02:02<00:49,  2.90s/it]"
                    ]
                },
                {
                    "name": "stdout",
                    "output_type": "stream",
                    "text": [
                        "\n",
                        "İşlenen görüntü: 1300/4500 (28.9%)\n",
                        "Geçen süre: 2.1 dakika\n",
                        "Tahmini kalan süre: 5.1 dakika\n"
                    ]
                },
                {
                    "name": "stderr",
                    "output_type": "stream",
                    "text": [
                        "training izlemeleri:  77%|███████▋  | 46/60 [02:10<00:35,  2.56s/it]"
                    ]
                },
                {
                    "name": "stdout",
                    "output_type": "stream",
                    "text": [
                        "\n",
                        "İşlenen görüntü: 1400/4500 (31.1%)\n",
                        "Geçen süre: 2.2 dakika\n",
                        "Tahmini kalan süre: 4.9 dakika\n"
                    ]
                },
                {
                    "name": "stderr",
                    "output_type": "stream",
                    "text": [
                        "training izlemeleri:  83%|████████▎ | 50/60 [02:19<00:24,  2.42s/it]"
                    ]
                },
                {
                    "name": "stdout",
                    "output_type": "stream",
                    "text": [
                        "\n",
                        "İşlenen görüntü: 1500/4500 (33.3%)\n",
                        "Geçen süre: 2.3 dakika\n",
                        "Tahmini kalan süre: 4.7 dakika\n"
                    ]
                },
                {
                    "name": "stderr",
                    "output_type": "stream",
                    "text": [
                        "training izlemeleri:  88%|████████▊ | 53/60 [02:32<00:24,  3.55s/it]"
                    ]
                },
                {
                    "name": "stdout",
                    "output_type": "stream",
                    "text": [
                        "\n",
                        "İşlenen görüntü: 1600/4500 (35.6%)\n",
                        "Geçen süre: 2.6 dakika\n",
                        "Tahmini kalan süre: 4.6 dakika\n"
                    ]
                },
                {
                    "name": "stderr",
                    "output_type": "stream",
                    "text": [
                        "training izlemeleri:  93%|█████████▎| 56/60 [02:42<00:13,  3.47s/it]"
                    ]
                },
                {
                    "name": "stdout",
                    "output_type": "stream",
                    "text": [
                        "\n",
                        "İşlenen görüntü: 1700/4500 (37.8%)\n",
                        "Geçen süre: 2.8 dakika\n",
                        "Tahmini kalan süre: 4.6 dakika\n"
                    ]
                },
                {
                    "name": "stderr",
                    "output_type": "stream",
                    "text": [
                        "training izlemeleri: 100%|██████████| 60/60 [03:04<00:00,  3.08s/it]\n"
                    ]
                },
                {
                    "name": "stdout",
                    "output_type": "stream",
                    "text": [
                        "\n",
                        "İşlenen görüntü: 1800/4500 (40.0%)\n",
                        "Geçen süre: 3.1 dakika\n",
                        "Tahmini kalan süre: 4.6 dakika\n",
                        "\n",
                        "validation bölümü işleniyor...\n"
                    ]
                },
                {
                    "name": "stderr",
                    "output_type": "stream",
                    "text": [
                        "validation izlemeleri:  10%|█         | 3/30 [00:06<01:02,  2.33s/it]"
                    ]
                },
                {
                    "name": "stdout",
                    "output_type": "stream",
                    "text": [
                        "\n",
                        "İşlenen görüntü: 1900/4500 (42.2%)\n",
                        "Geçen süre: 3.2 dakika\n",
                        "Tahmini kalan süre: 4.4 dakika\n"
                    ]
                },
                {
                    "name": "stderr",
                    "output_type": "stream",
                    "text": [
                        "validation izlemeleri:  20%|██        | 6/30 [00:21<01:40,  4.17s/it]"
                    ]
                },
                {
                    "name": "stdout",
                    "output_type": "stream",
                    "text": [
                        "\n",
                        "İşlenen görüntü: 2000/4500 (44.4%)\n",
                        "Geçen süre: 3.5 dakika\n",
                        "Tahmini kalan süre: 4.3 dakika\n"
                    ]
                },
                {
                    "name": "stderr",
                    "output_type": "stream",
                    "text": [
                        "validation izlemeleri:  33%|███▎      | 10/30 [00:34<01:04,  3.23s/it]"
                    ]
                },
                {
                    "name": "stdout",
                    "output_type": "stream",
                    "text": [
                        "\n",
                        "İşlenen görüntü: 2100/4500 (46.7%)\n",
                        "Geçen süre: 3.7 dakika\n",
                        "Tahmini kalan süre: 4.2 dakika\n"
                    ]
                },
                {
                    "name": "stderr",
                    "output_type": "stream",
                    "text": [
                        "validation izlemeleri:  43%|████▎     | 13/30 [00:41<00:45,  2.70s/it]"
                    ]
                },
                {
                    "name": "stdout",
                    "output_type": "stream",
                    "text": [
                        "\n",
                        "İşlenen görüntü: 2200/4500 (48.9%)\n",
                        "Geçen süre: 3.8 dakika\n",
                        "Tahmini kalan süre: 4.0 dakika\n"
                    ]
                },
                {
                    "name": "stderr",
                    "output_type": "stream",
                    "text": [
                        "validation izlemeleri:  53%|█████▎    | 16/30 [00:47<00:33,  2.40s/it]"
                    ]
                },
                {
                    "name": "stdout",
                    "output_type": "stream",
                    "text": [
                        "\n",
                        "İşlenen görüntü: 2300/4500 (51.1%)\n",
                        "Geçen süre: 3.9 dakika\n",
                        "Tahmini kalan süre: 3.7 dakika\n"
                    ]
                },
                {
                    "name": "stderr",
                    "output_type": "stream",
                    "text": [
                        "validation izlemeleri:  67%|██████▋   | 20/30 [00:56<00:22,  2.21s/it]"
                    ]
                },
                {
                    "name": "stdout",
                    "output_type": "stream",
                    "text": [
                        "\n",
                        "İşlenen görüntü: 2400/4500 (53.3%)\n",
                        "Geçen süre: 4.0 dakika\n",
                        "Tahmini kalan süre: 3.5 dakika\n"
                    ]
                },
                {
                    "name": "stderr",
                    "output_type": "stream",
                    "text": [
                        "validation izlemeleri:  77%|███████▋  | 23/30 [01:03<00:15,  2.25s/it]"
                    ]
                },
                {
                    "name": "stdout",
                    "output_type": "stream",
                    "text": [
                        "\n",
                        "İşlenen görüntü: 2500/4500 (55.6%)\n",
                        "Geçen süre: 4.2 dakika\n",
                        "Tahmini kalan süre: 3.3 dakika\n"
                    ]
                },
                {
                    "name": "stderr",
                    "output_type": "stream",
                    "text": [
                        "validation izlemeleri:  87%|████████▋ | 26/30 [01:09<00:08,  2.16s/it]"
                    ]
                },
                {
                    "name": "stdout",
                    "output_type": "stream",
                    "text": [
                        "\n",
                        "İşlenen görüntü: 2600/4500 (57.8%)\n",
                        "Geçen süre: 4.3 dakika\n",
                        "Tahmini kalan süre: 3.1 dakika\n"
                    ]
                },
                {
                    "name": "stderr",
                    "output_type": "stream",
                    "text": [
                        "validation izlemeleri: 100%|██████████| 30/30 [01:18<00:00,  2.60s/it]\n"
                    ]
                },
                {
                    "name": "stdout",
                    "output_type": "stream",
                    "text": [
                        "\n",
                        "İşlenen görüntü: 2700/4500 (60.0%)\n",
                        "Geçen süre: 4.4 dakika\n",
                        "Tahmini kalan süre: 2.9 dakika\n",
                        "\n",
                        "testing bölümü işleniyor...\n"
                    ]
                },
                {
                    "name": "stderr",
                    "output_type": "stream",
                    "text": [
                        "testing izlemeleri:   5%|▌         | 3/60 [00:07<02:25,  2.55s/it]"
                    ]
                },
                {
                    "name": "stdout",
                    "output_type": "stream",
                    "text": [
                        "\n",
                        "İşlenen görüntü: 2800/4500 (62.2%)\n",
                        "Geçen süre: 4.5 dakika\n",
                        "Tahmini kalan süre: 2.8 dakika\n"
                    ]
                },
                {
                    "name": "stderr",
                    "output_type": "stream",
                    "text": [
                        "testing izlemeleri:  10%|█         | 6/60 [00:15<02:11,  2.44s/it]"
                    ]
                },
                {
                    "name": "stdout",
                    "output_type": "stream",
                    "text": [
                        "\n",
                        "İşlenen görüntü: 2900/4500 (64.4%)\n",
                        "Geçen süre: 4.7 dakika\n",
                        "Tahmini kalan süre: 2.6 dakika\n"
                    ]
                },
                {
                    "name": "stderr",
                    "output_type": "stream",
                    "text": [
                        "testing izlemeleri:  17%|█▋        | 10/60 [00:28<02:59,  3.59s/it]"
                    ]
                },
                {
                    "name": "stdout",
                    "output_type": "stream",
                    "text": [
                        "\n",
                        "İşlenen görüntü: 3000/4500 (66.7%)\n",
                        "Geçen süre: 4.9 dakika\n",
                        "Tahmini kalan süre: 2.4 dakika\n"
                    ]
                },
                {
                    "name": "stderr",
                    "output_type": "stream",
                    "text": [
                        "testing izlemeleri:  22%|██▏       | 13/60 [00:43<03:19,  4.25s/it]"
                    ]
                },
                {
                    "name": "stdout",
                    "output_type": "stream",
                    "text": [
                        "\n",
                        "İşlenen görüntü: 3100/4500 (68.9%)\n",
                        "Geçen süre: 5.1 dakika\n",
                        "Tahmini kalan süre: 2.3 dakika\n"
                    ]
                },
                {
                    "name": "stderr",
                    "output_type": "stream",
                    "text": [
                        "testing izlemeleri:  27%|██▋       | 16/60 [00:53<02:40,  3.66s/it]"
                    ]
                },
                {
                    "name": "stdout",
                    "output_type": "stream",
                    "text": [
                        "\n",
                        "İşlenen görüntü: 3200/4500 (71.1%)\n",
                        "Geçen süre: 5.3 dakika\n",
                        "Tahmini kalan süre: 2.2 dakika\n"
                    ]
                },
                {
                    "name": "stderr",
                    "output_type": "stream",
                    "text": [
                        "testing izlemeleri:  33%|███▎      | 20/60 [01:08<02:19,  3.48s/it]"
                    ]
                },
                {
                    "name": "stdout",
                    "output_type": "stream",
                    "text": [
                        "\n",
                        "İşlenen görüntü: 3300/4500 (73.3%)\n",
                        "Geçen süre: 5.5 dakika\n",
                        "Tahmini kalan süre: 2.0 dakika\n"
                    ]
                },
                {
                    "name": "stderr",
                    "output_type": "stream",
                    "text": [
                        "testing izlemeleri:  38%|███▊      | 23/60 [01:15<01:42,  2.77s/it]"
                    ]
                },
                {
                    "name": "stdout",
                    "output_type": "stream",
                    "text": [
                        "\n",
                        "İşlenen görüntü: 3400/4500 (75.6%)\n",
                        "Geçen süre: 5.7 dakika\n",
                        "Tahmini kalan süre: 1.8 dakika\n"
                    ]
                },
                {
                    "name": "stderr",
                    "output_type": "stream",
                    "text": [
                        "testing izlemeleri:  43%|████▎     | 26/60 [01:27<02:01,  3.56s/it]"
                    ]
                },
                {
                    "name": "stdout",
                    "output_type": "stream",
                    "text": [
                        "\n",
                        "İşlenen görüntü: 3500/4500 (77.8%)\n",
                        "Geçen süre: 5.9 dakika\n",
                        "Tahmini kalan süre: 1.7 dakika\n"
                    ]
                },
                {
                    "name": "stderr",
                    "output_type": "stream",
                    "text": [
                        "testing izlemeleri:  50%|█████     | 30/60 [01:38<01:22,  2.76s/it]"
                    ]
                },
                {
                    "name": "stdout",
                    "output_type": "stream",
                    "text": [
                        "\n",
                        "İşlenen görüntü: 3600/4500 (80.0%)\n",
                        "Geçen süre: 6.0 dakika\n",
                        "Tahmini kalan süre: 1.5 dakika\n"
                    ]
                },
                {
                    "name": "stderr",
                    "output_type": "stream",
                    "text": [
                        "testing izlemeleri:  55%|█████▌    | 33/60 [01:47<01:27,  3.23s/it]"
                    ]
                },
                {
                    "name": "stdout",
                    "output_type": "stream",
                    "text": [
                        "\n",
                        "İşlenen görüntü: 3700/4500 (82.2%)\n",
                        "Geçen süre: 6.2 dakika\n",
                        "Tahmini kalan süre: 1.3 dakika\n"
                    ]
                },
                {
                    "name": "stderr",
                    "output_type": "stream",
                    "text": [
                        "testing izlemeleri:  60%|██████    | 36/60 [01:58<01:23,  3.46s/it]"
                    ]
                },
                {
                    "name": "stdout",
                    "output_type": "stream",
                    "text": [
                        "\n",
                        "İşlenen görüntü: 3800/4500 (84.4%)\n",
                        "Geçen süre: 6.4 dakika\n",
                        "Tahmini kalan süre: 1.2 dakika\n"
                    ]
                },
                {
                    "name": "stderr",
                    "output_type": "stream",
                    "text": [
                        "testing izlemeleri:  67%|██████▋   | 40/60 [02:21<01:47,  5.35s/it]"
                    ]
                },
                {
                    "name": "stdout",
                    "output_type": "stream",
                    "text": [
                        "\n",
                        "İşlenen görüntü: 3900/4500 (86.7%)\n",
                        "Geçen süre: 6.7 dakika\n",
                        "Tahmini kalan süre: 1.0 dakika\n"
                    ]
                },
                {
                    "name": "stderr",
                    "output_type": "stream",
                    "text": [
                        "testing izlemeleri:  72%|███████▏  | 43/60 [02:37<01:34,  5.57s/it]"
                    ]
                },
                {
                    "name": "stdout",
                    "output_type": "stream",
                    "text": [
                        "\n",
                        "İşlenen görüntü: 4000/4500 (88.9%)\n",
                        "Geçen süre: 7.0 dakika\n",
                        "Tahmini kalan süre: 0.9 dakika\n"
                    ]
                },
                {
                    "name": "stderr",
                    "output_type": "stream",
                    "text": [
                        "testing izlemeleri:  77%|███████▋  | 46/60 [02:50<01:04,  4.60s/it]"
                    ]
                },
                {
                    "name": "stdout",
                    "output_type": "stream",
                    "text": [
                        "\n",
                        "İşlenen görüntü: 4100/4500 (91.1%)\n",
                        "Geçen süre: 7.3 dakika\n",
                        "Tahmini kalan süre: 0.7 dakika\n"
                    ]
                },
                {
                    "name": "stderr",
                    "output_type": "stream",
                    "text": [
                        "testing izlemeleri:  83%|████████▎ | 50/60 [03:07<00:42,  4.27s/it]"
                    ]
                },
                {
                    "name": "stdout",
                    "output_type": "stream",
                    "text": [
                        "\n",
                        "İşlenen görüntü: 4200/4500 (93.3%)\n",
                        "Geçen süre: 7.5 dakika\n",
                        "Tahmini kalan süre: 0.5 dakika\n"
                    ]
                },
                {
                    "name": "stderr",
                    "output_type": "stream",
                    "text": [
                        "testing izlemeleri:  88%|████████▊ | 53/60 [03:22<00:35,  5.07s/it]"
                    ]
                },
                {
                    "name": "stdout",
                    "output_type": "stream",
                    "text": [
                        "\n",
                        "İşlenen görüntü: 4300/4500 (95.6%)\n",
                        "Geçen süre: 7.8 dakika\n",
                        "Tahmini kalan süre: 0.4 dakika\n"
                    ]
                },
                {
                    "name": "stderr",
                    "output_type": "stream",
                    "text": [
                        "testing izlemeleri:  93%|█████████▎| 56/60 [03:34<00:16,  4.23s/it]"
                    ]
                },
                {
                    "name": "stdout",
                    "output_type": "stream",
                    "text": [
                        "\n",
                        "İşlenen görüntü: 4400/4500 (97.8%)\n",
                        "Geçen süre: 8.0 dakika\n",
                        "Tahmini kalan süre: 0.2 dakika\n"
                    ]
                },
                {
                    "name": "stderr",
                    "output_type": "stream",
                    "text": [
                        "testing izlemeleri: 100%|██████████| 60/60 [03:49<00:00,  3.83s/it]"
                    ]
                },
                {
                    "name": "stdout",
                    "output_type": "stream",
                    "text": [
                        "\n",
                        "İşlenen görüntü: 4500/4500 (100.0%)\n",
                        "Geçen süre: 8.2 dakika\n",
                        "Tahmini kalan süre: 0.0 dakika\n",
                        "\n",
                        "Veri seti hazırlama tamamlandı!\n",
                        "Toplam süre: 8.2 dakika\n",
                        "İşlenen toplam görüntü: 4500\n",
                        "Veri seti şurada hazırlandı: ../data/processed\n"
                    ]
                },
                {
                    "name": "stderr",
                    "output_type": "stream",
                    "text": [
                        "\n"
                    ]
                }
            ],
            "source": [
                "# Tespit modülünü başlat\n",
                "detector = PlateDetector()\n",
                "\n",
                "# Veri seti yaml yolunu kontrol et\n",
                "dataset_yaml = os.path.join(processed_dataset_root, 'dataset.yaml')\n",
                "if not os.path.exists(dataset_yaml):\n",
                "    print(\"UFPR-ALPR veri seti hazırlanıyor...\")\n",
                "    prepared_dataset_path = detector.prepare_ufpr_dataset(dataset_root, processed_dataset_root)\n",
                "    print(f\"Veri seti şurada hazırlandı: {prepared_dataset_path}\")\n",
                "else:\n",
                "    prepared_dataset_path = processed_dataset_root\n",
                "    print(\"Mevcut veri seti kullanılıyor...\")"
            ]
        },
        {
            "cell_type": "markdown",
            "id": "d7b6c224",
            "metadata": {},
            "source": [
                "## 4. YOLOv8 Modelini Eğit"
            ]
        },
        {
            "cell_type": "code",
            "execution_count": 7,
            "id": "4c0aa81d",
            "metadata": {},
            "outputs": [
                {
                    "name": "stdout",
                    "output_type": "stream",
                    "text": [
                        "eralperat\n",
                        "Model eğitimi başlatılıyor (epochs=10, batch_size=16, img_size=720)...\n",
                        "YAML dosyası okunabildi: ../data/processed\\dataset.yaml\n",
                        "train dizini erişilebilir (2 öğe)\n",
                        "val dizini erişilebilir (2 öğe)\n",
                        "test dizini erişilebilir (2 öğe)\n",
                        "Eğitim çıktıları şuraya kaydedilecek: c:\\msworks\\APLR_Final\\notebooks\\runs\\train\\yolov8_plate_1746982620\n",
                        "YOLOv8n modeli başarıyla yüklendi\n",
                        "Eğitim başlatılıyor: 10 epochs, 16 batch size, 720 image size\n",
                        "Veri seti: ../data/processed\n",
                        "Cihaz: CPU\n",
                        "New https://pypi.org/project/ultralytics/8.3.131 available  Update with 'pip install -U ultralytics'\n",
                        "Ultralytics 8.3.127  Python-3.10.11 torch-2.7.0+cpu CPU (11th Gen Intel Core(TM) i7-1185G7 3.00GHz)\n",
                        "\u001b[34m\u001b[1mengine\\trainer: \u001b[0magnostic_nms=False, amp=True, augment=False, auto_augment=randaugment, batch=16, bgr=0.0, box=7.5, cache=False, cfg=None, classes=None, close_mosaic=10, cls=0.5, conf=None, copy_paste=0.0, copy_paste_mode=flip, cos_lr=False, cutmix=0.0, data=../data/processed\\dataset.yaml, degrees=0.0, deterministic=True, device=cpu, dfl=1.5, dnn=False, dropout=0.0, dynamic=False, embed=None, epochs=10, erasing=0.4, exist_ok=False, fliplr=0.5, flipud=0.0, format=torchscript, fraction=1.0, freeze=None, half=False, hsv_h=0.015, hsv_s=0.7, hsv_v=0.4, imgsz=720, int8=False, iou=0.7, keras=False, kobj=1.0, line_width=None, lr0=0.01, lrf=0.01, mask_ratio=4, max_det=300, mixup=0.0, mode=train, model=yolov8n.pt, momentum=0.937, mosaic=1.0, multi_scale=False, name=yolov8_plate_17469826202, nbs=64, nms=False, opset=None, optimize=False, optimizer=auto, overlap_mask=True, patience=100, perspective=0.0, plots=True, pose=12.0, pretrained=True, profile=False, project=c:\\msworks\\APLR_Final\\notebooks\\runs\\train, rect=False, resume=False, retina_masks=False, save=True, save_conf=False, save_crop=False, save_dir=c:\\msworks\\APLR_Final\\notebooks\\runs\\train\\yolov8_plate_17469826202, save_frames=False, save_json=False, save_period=-1, save_txt=False, scale=0.5, seed=0, shear=0.0, show=False, show_boxes=True, show_conf=True, show_labels=True, simplify=True, single_cls=False, source=None, split=val, stream_buffer=False, task=detect, time=None, tracker=botsort.yaml, translate=0.1, val=True, verbose=True, vid_stride=1, visualize=False, warmup_bias_lr=0.1, warmup_epochs=3.0, warmup_momentum=0.8, weight_decay=0.0005, workers=8, workspace=None\n",
                        "Overriding model.yaml nc=80 with nc=1\n",
                        "\n",
                        "                   from  n    params  module                                       arguments                     \n",
                        "  0                  -1  1       464  ultralytics.nn.modules.conv.Conv             [3, 16, 3, 2]                 \n",
                        "  1                  -1  1      4672  ultralytics.nn.modules.conv.Conv             [16, 32, 3, 2]                \n",
                        "  2                  -1  1      7360  ultralytics.nn.modules.block.C2f             [32, 32, 1, True]             \n",
                        "  3                  -1  1     18560  ultralytics.nn.modules.conv.Conv             [32, 64, 3, 2]                \n",
                        "  4                  -1  2     49664  ultralytics.nn.modules.block.C2f             [64, 64, 2, True]             \n",
                        "  5                  -1  1     73984  ultralytics.nn.modules.conv.Conv             [64, 128, 3, 2]               \n",
                        "  6                  -1  2    197632  ultralytics.nn.modules.block.C2f             [128, 128, 2, True]           \n",
                        "  7                  -1  1    295424  ultralytics.nn.modules.conv.Conv             [128, 256, 3, 2]              \n",
                        "  8                  -1  1    460288  ultralytics.nn.modules.block.C2f             [256, 256, 1, True]           \n",
                        "  9                  -1  1    164608  ultralytics.nn.modules.block.SPPF            [256, 256, 5]                 \n",
                        " 10                  -1  1         0  torch.nn.modules.upsampling.Upsample         [None, 2, 'nearest']          \n",
                        " 11             [-1, 6]  1         0  ultralytics.nn.modules.conv.Concat           [1]                           \n",
                        " 12                  -1  1    148224  ultralytics.nn.modules.block.C2f             [384, 128, 1]                 \n",
                        " 13                  -1  1         0  torch.nn.modules.upsampling.Upsample         [None, 2, 'nearest']          \n",
                        " 14             [-1, 4]  1         0  ultralytics.nn.modules.conv.Concat           [1]                           \n",
                        " 15                  -1  1     37248  ultralytics.nn.modules.block.C2f             [192, 64, 1]                  \n",
                        " 16                  -1  1     36992  ultralytics.nn.modules.conv.Conv             [64, 64, 3, 2]                \n",
                        " 17            [-1, 12]  1         0  ultralytics.nn.modules.conv.Concat           [1]                           \n",
                        " 18                  -1  1    123648  ultralytics.nn.modules.block.C2f             [192, 128, 1]                 \n",
                        " 19                  -1  1    147712  ultralytics.nn.modules.conv.Conv             [128, 128, 3, 2]              \n",
                        " 20             [-1, 9]  1         0  ultralytics.nn.modules.conv.Concat           [1]                           \n",
                        " 21                  -1  1    493056  ultralytics.nn.modules.block.C2f             [384, 256, 1]                 \n",
                        " 22        [15, 18, 21]  1    751507  ultralytics.nn.modules.head.Detect           [1, [64, 128, 256]]           \n",
                        "Model summary: 129 layers, 3,011,043 parameters, 3,011,027 gradients, 8.2 GFLOPs\n",
                        "\n",
                        "Transferred 319/355 items from pretrained weights\n",
                        "Freezing layer 'model.22.dfl.conv.weight'\n",
                        "WARNING imgsz=[720] must be multiple of max stride 32, updating to [736]\n",
                        "\u001b[34m\u001b[1mtrain: \u001b[0mFast image access  (ping: 0.30.0 ms, read: 279.991.2 MB/s, size: 2176.4 KB)\n"
                    ]
                },
                {
                    "name": "stderr",
                    "output_type": "stream",
                    "text": [
                        "\u001b[34m\u001b[1mtrain: \u001b[0mScanning C:\\msworks\\APLR_Final\\data\\processed\\train\\labels... 1800 images, 0 backgrounds, 0 corrupt: 100%|██████████| 1800/1800 [00:32<00:00, 55.01it/s]\n"
                    ]
                },
                {
                    "name": "stdout",
                    "output_type": "stream",
                    "text": [
                        "\u001b[34m\u001b[1mtrain: \u001b[0mNew cache created: C:\\msworks\\APLR_Final\\data\\processed\\train\\labels.cache\n",
                        "\u001b[34m\u001b[1mval: \u001b[0mFast image access  (ping: 0.30.1 ms, read: 444.943.6 MB/s, size: 2255.9 KB)\n"
                    ]
                },
                {
                    "name": "stderr",
                    "output_type": "stream",
                    "text": [
                        "c:\\Python310\\lib\\site-packages\\torch\\utils\\data\\dataloader.py:665: UserWarning: 'pin_memory' argument is set as true but no accelerator is found, then device pinned memory won't be used.\n",
                        "  warnings.warn(warn_msg)\n",
                        "\u001b[34m\u001b[1mval: \u001b[0mScanning C:\\msworks\\APLR_Final\\data\\processed\\val\\labels... 900 images, 0 backgrounds, 0 corrupt: 100%|██████████| 900/900 [00:18<00:00, 49.93it/s]\n"
                    ]
                },
                {
                    "name": "stdout",
                    "output_type": "stream",
                    "text": [
                        "\u001b[34m\u001b[1mval: \u001b[0mNew cache created: C:\\msworks\\APLR_Final\\data\\processed\\val\\labels.cache\n"
                    ]
                },
                {
                    "name": "stderr",
                    "output_type": "stream",
                    "text": [
                        "c:\\Python310\\lib\\site-packages\\torch\\utils\\data\\dataloader.py:665: UserWarning: 'pin_memory' argument is set as true but no accelerator is found, then device pinned memory won't be used.\n",
                        "  warnings.warn(warn_msg)\n"
                    ]
                },
                {
                    "name": "stdout",
                    "output_type": "stream",
                    "text": [
                        "Plotting labels to c:\\msworks\\APLR_Final\\notebooks\\runs\\train\\yolov8_plate_17469826202\\labels.jpg... \n",
                        "\u001b[34m\u001b[1moptimizer:\u001b[0m 'optimizer=auto' found, ignoring 'lr0=0.01' and 'momentum=0.937' and determining best 'optimizer', 'lr0' and 'momentum' automatically... \n",
                        "\u001b[34m\u001b[1moptimizer:\u001b[0m AdamW(lr=0.002, momentum=0.9) with parameter groups 57 weight(decay=0.0), 64 weight(decay=0.0005), 63 bias(decay=0.0)\n",
                        "Image sizes 736 train, 736 val\n",
                        "Using 0 dataloader workers\n",
                        "Logging results to \u001b[1mc:\\msworks\\APLR_Final\\notebooks\\runs\\train\\yolov8_plate_17469826202\u001b[0m\n",
                        "Starting training for 10 epochs...\n",
                        "Closing dataloader mosaic\n",
                        "\n",
                        "      Epoch    GPU_mem   box_loss   cls_loss   dfl_loss  Instances       Size\n"
                    ]
                },
                {
                    "name": "stderr",
                    "output_type": "stream",
                    "text": [
                        "c:\\Python310\\lib\\site-packages\\torch\\utils\\data\\dataloader.py:665: UserWarning: 'pin_memory' argument is set as true but no accelerator is found, then device pinned memory won't be used.\n",
                        "  warnings.warn(warn_msg)\n",
                        "       1/10         0G      1.265       3.94     0.9356          8        736: 100%|██████████| 113/113 [27:10<00:00, 14.43s/it]\n",
                        "                 Class     Images  Instances      Box(P          R      mAP50  mAP50-95): 100%|██████████| 29/29 [02:58<00:00,  6.14s/it]\n"
                    ]
                },
                {
                    "name": "stdout",
                    "output_type": "stream",
                    "text": [
                        "                   all        900        900      0.986      0.828      0.959      0.572\n",
                        "\n",
                        "      Epoch    GPU_mem   box_loss   cls_loss   dfl_loss  Instances       Size\n"
                    ]
                },
                {
                    "name": "stderr",
                    "output_type": "stream",
                    "text": [
                        "       2/10         0G      1.062      1.805       0.87          8        736: 100%|██████████| 113/113 [20:55<00:00, 11.11s/it]\n",
                        "                 Class     Images  Instances      Box(P          R      mAP50  mAP50-95): 100%|██████████| 29/29 [02:32<00:00,  5.27s/it]\n"
                    ]
                },
                {
                    "name": "stdout",
                    "output_type": "stream",
                    "text": [
                        "                   all        900        900      0.964      0.923      0.979      0.614\n",
                        "\n",
                        "      Epoch    GPU_mem   box_loss   cls_loss   dfl_loss  Instances       Size\n"
                    ]
                },
                {
                    "name": "stderr",
                    "output_type": "stream",
                    "text": [
                        "       3/10         0G     0.9664      1.048     0.8497          7        736: 100%|██████████| 113/113 [20:53<00:00, 11.09s/it]\n",
                        "                 Class     Images  Instances      Box(P          R      mAP50  mAP50-95): 100%|██████████| 29/29 [02:44<00:00,  5.69s/it]\n"
                    ]
                },
                {
                    "name": "stdout",
                    "output_type": "stream",
                    "text": [
                        "                   all        900        900      0.936      0.952      0.985      0.629\n",
                        "\n",
                        "      Epoch    GPU_mem   box_loss   cls_loss   dfl_loss  Instances       Size\n"
                    ]
                },
                {
                    "name": "stderr",
                    "output_type": "stream",
                    "text": [
                        "       4/10         0G     0.9246     0.7441     0.8382          7        736: 100%|██████████| 113/113 [20:25<00:00, 10.84s/it]\n",
                        "                 Class     Images  Instances      Box(P          R      mAP50  mAP50-95): 100%|██████████| 29/29 [02:36<00:00,  5.39s/it]"
                    ]
                },
                {
                    "name": "stdout",
                    "output_type": "stream",
                    "text": [
                        "                   all        900        900      0.959      0.942      0.987      0.618\n"
                    ]
                },
                {
                    "name": "stderr",
                    "output_type": "stream",
                    "text": [
                        "\n"
                    ]
                },
                {
                    "name": "stdout",
                    "output_type": "stream",
                    "text": [
                        "\n",
                        "      Epoch    GPU_mem   box_loss   cls_loss   dfl_loss  Instances       Size\n"
                    ]
                },
                {
                    "name": "stderr",
                    "output_type": "stream",
                    "text": [
                        "       5/10         0G     0.8339     0.6187     0.8334          8        736: 100%|██████████| 113/113 [21:52<00:00, 11.62s/it]\n",
                        "                 Class     Images  Instances      Box(P          R      mAP50  mAP50-95): 100%|██████████| 29/29 [02:42<00:00,  5.60s/it]"
                    ]
                },
                {
                    "name": "stdout",
                    "output_type": "stream",
                    "text": [
                        "                   all        900        900      0.968      0.944      0.988      0.669\n"
                    ]
                },
                {
                    "name": "stderr",
                    "output_type": "stream",
                    "text": [
                        "\n"
                    ]
                },
                {
                    "name": "stdout",
                    "output_type": "stream",
                    "text": [
                        "\n",
                        "      Epoch    GPU_mem   box_loss   cls_loss   dfl_loss  Instances       Size\n"
                    ]
                },
                {
                    "name": "stderr",
                    "output_type": "stream",
                    "text": [
                        "       6/10         0G     0.7404     0.5288     0.8185          8        736: 100%|██████████| 113/113 [19:47<00:00, 10.51s/it]\n",
                        "                 Class     Images  Instances      Box(P          R      mAP50  mAP50-95): 100%|██████████| 29/29 [02:26<00:00,  5.05s/it]"
                    ]
                },
                {
                    "name": "stdout",
                    "output_type": "stream",
                    "text": [
                        "                   all        900        900       0.96      0.932      0.986      0.703\n"
                    ]
                },
                {
                    "name": "stderr",
                    "output_type": "stream",
                    "text": [
                        "\n"
                    ]
                },
                {
                    "name": "stdout",
                    "output_type": "stream",
                    "text": [
                        "\n",
                        "      Epoch    GPU_mem   box_loss   cls_loss   dfl_loss  Instances       Size\n"
                    ]
                },
                {
                    "name": "stderr",
                    "output_type": "stream",
                    "text": [
                        "       7/10         0G     0.7111     0.4718     0.8068          8        736: 100%|██████████| 113/113 [19:56<00:00, 10.59s/it]\n",
                        "                 Class     Images  Instances      Box(P          R      mAP50  mAP50-95): 100%|██████████| 29/29 [02:37<00:00,  5.45s/it]"
                    ]
                },
                {
                    "name": "stdout",
                    "output_type": "stream",
                    "text": [
                        "                   all        900        900      0.991      0.986      0.995        0.7\n"
                    ]
                },
                {
                    "name": "stderr",
                    "output_type": "stream",
                    "text": [
                        "\n"
                    ]
                },
                {
                    "name": "stdout",
                    "output_type": "stream",
                    "text": [
                        "\n",
                        "      Epoch    GPU_mem   box_loss   cls_loss   dfl_loss  Instances       Size\n"
                    ]
                },
                {
                    "name": "stderr",
                    "output_type": "stream",
                    "text": [
                        "       8/10         0G      0.642     0.4278     0.8077          8        736: 100%|██████████| 113/113 [22:41<00:00, 12.05s/it]\n",
                        "                 Class     Images  Instances      Box(P          R      mAP50  mAP50-95): 100%|██████████| 29/29 [02:32<00:00,  5.26s/it]"
                    ]
                },
                {
                    "name": "stdout",
                    "output_type": "stream",
                    "text": [
                        "                   all        900        900      0.991      0.979      0.994      0.724\n"
                    ]
                },
                {
                    "name": "stderr",
                    "output_type": "stream",
                    "text": [
                        "\n"
                    ]
                },
                {
                    "name": "stdout",
                    "output_type": "stream",
                    "text": [
                        "\n",
                        "      Epoch    GPU_mem   box_loss   cls_loss   dfl_loss  Instances       Size\n"
                    ]
                },
                {
                    "name": "stderr",
                    "output_type": "stream",
                    "text": [
                        "       9/10         0G     0.5981      0.397     0.8016          8        736: 100%|██████████| 113/113 [20:36<00:00, 10.94s/it]\n",
                        "                 Class     Images  Instances      Box(P          R      mAP50  mAP50-95): 100%|██████████| 29/29 [02:44<00:00,  5.66s/it]"
                    ]
                },
                {
                    "name": "stdout",
                    "output_type": "stream",
                    "text": [
                        "                   all        900        900      0.989      0.986      0.995      0.726\n"
                    ]
                },
                {
                    "name": "stderr",
                    "output_type": "stream",
                    "text": [
                        "\n"
                    ]
                },
                {
                    "name": "stdout",
                    "output_type": "stream",
                    "text": [
                        "\n",
                        "      Epoch    GPU_mem   box_loss   cls_loss   dfl_loss  Instances       Size\n"
                    ]
                },
                {
                    "name": "stderr",
                    "output_type": "stream",
                    "text": [
                        "      10/10         0G     0.5667     0.3761     0.7989          7        736: 100%|██████████| 113/113 [22:16<00:00, 11.82s/it]\n",
                        "                 Class     Images  Instances      Box(P          R      mAP50  mAP50-95): 100%|██████████| 29/29 [03:00<00:00,  6.22s/it]"
                    ]
                },
                {
                    "name": "stdout",
                    "output_type": "stream",
                    "text": [
                        "                   all        900        900      0.982      0.983      0.994      0.747\n"
                    ]
                },
                {
                    "name": "stderr",
                    "output_type": "stream",
                    "text": [
                        "\n"
                    ]
                },
                {
                    "name": "stdout",
                    "output_type": "stream",
                    "text": [
                        "\n",
                        "10 epochs completed in 4.061 hours.\n",
                        "Optimizer stripped from c:\\msworks\\APLR_Final\\notebooks\\runs\\train\\yolov8_plate_17469826202\\weights\\last.pt, 6.2MB\n",
                        "Optimizer stripped from c:\\msworks\\APLR_Final\\notebooks\\runs\\train\\yolov8_plate_17469826202\\weights\\best.pt, 6.2MB\n",
                        "\n",
                        "Validating c:\\msworks\\APLR_Final\\notebooks\\runs\\train\\yolov8_plate_17469826202\\weights\\best.pt...\n",
                        "Ultralytics 8.3.127  Python-3.10.11 torch-2.7.0+cpu CPU (11th Gen Intel Core(TM) i7-1185G7 3.00GHz)\n",
                        "Model summary (fused): 72 layers, 3,005,843 parameters, 0 gradients, 8.1 GFLOPs\n"
                    ]
                },
                {
                    "name": "stderr",
                    "output_type": "stream",
                    "text": [
                        "                 Class     Images  Instances      Box(P          R      mAP50  mAP50-95): 100%|██████████| 29/29 [02:42<00:00,  5.62s/it]\n"
                    ]
                },
                {
                    "name": "stdout",
                    "output_type": "stream",
                    "text": [
                        "                   all        900        900      0.982      0.984      0.994      0.747\n",
                        "Speed: 3.2ms preprocess, 107.1ms inference, 0.0ms loss, 1.1ms postprocess per image\n",
                        "Results saved to \u001b[1mc:\\msworks\\APLR_Final\\notebooks\\runs\\train\\yolov8_plate_17469826202\u001b[0m\n",
                        "Eğitim başarıyla tamamlandı. Model kaydedildi: c:\\msworks\\APLR_Final\\notebooks\\runs\\train\\yolov8_plate_17469826202\\weights\\best.pt\n",
                        "Eğitim tamamlandı. Model şuraya kaydedildi: c:\\msworks\\APLR_Final\\notebooks\\runs\\train\\yolov8_plate_17469826202\\weights\\best.pt\n"
                    ]
                }
            ],
            "source": [
                "import os\n",
                "print(os.getlogin())\n",
                "\n",
                "# Modeli eğit\n",
                "print(f\"Model eğitimi başlatılıyor (epochs={epochs}, batch_size={batch_size}, img_size={img_size})...\")\n",
                "model_path = detector.train_custom_model(\n",
                "    prepared_dataset_path,\n",
                "    epochs=epochs,\n",
                "    batch_size=batch_size,\n",
                "    img_size=img_size\n",
                ")\n",
                "print(f\"Eğitim tamamlandı. Model şuraya kaydedildi: {model_path}\")"
            ]
        },
        {
            "cell_type": "markdown",
            "id": "5c0aa44d",
            "metadata": {},
            "source": [
                "## 5. Modeli Klasöre Kopyala"
            ]
        },
        {
            "cell_type": "code",
            "execution_count": 8,
            "id": "cc2bb2ab",
            "metadata": {},
            "outputs": [
                {
                    "name": "stdout",
                    "output_type": "stream",
                    "text": [
                        "c:\\msworks\\APLR_Final\\notebooks\\runs\\train\\yolov8_plate_17469826202\\weights\\best.pt\n",
                        "True\n",
                        "Model başarıyla şuraya kopyalandı: ../models/yolov8_license_plate.pt\n"
                    ]
                }
            ],
            "source": [
                "import os\n",
                "print(model_path)\n",
                "print(os.path.exists(model_path))\n",
                "\n",
                "# Eğitilmiş modeli models dizinine kopyala\n",
                "os.makedirs('../models', exist_ok=True)\n",
                "target_model_path = '../models/yolov8_license_plate.pt'\n",
                "\n",
                "try:\n",
                "    shutil.copy2(model_path, target_model_path)\n",
                "    print(f\"Model başarıyla şuraya kopyalandı: {target_model_path}\")\n",
                "except Exception as e:\n",
                "    print(f\"Model kopyalanırken hata oluştu: {str(e)}\")"
            ]
        },
        {
            "cell_type": "markdown",
            "id": "7e22b4fd",
            "metadata": {},
            "source": [
                "## 6. Modeli Test Et"
            ]
        },
        {
            "cell_type": "code",
            "execution_count": 9,
            "id": "9a12ab85",
            "metadata": {},
            "outputs": [],
            "source": [
                "def test_model_on_image(model_path, image_path):\n",
                "    \"\"\"Eğitilmiş modeli bir görüntü üzerinde test et\"\"\"\n",
                "    print(f\"Model şu görüntü üzerinde test ediliyor: {image_path}\")\n",
                "    \n",
                "    # Modeli yükle\n",
                "    model = YOLO(model_path)\n",
                "    \n",
                "    # Görüntüyü yükle\n",
                "    image = cv2.imread(image_path)\n",
                "    if image is None:\n",
                "        print(f\"Hata: {image_path} yüklenemedi\")\n",
                "        return\n",
                "    \n",
                "    # Plakaları tespit et\n",
                "    results = model(image)[0]\n",
                "    \n",
                "    # Sonuçları göster\n",
                "    plt.figure(figsize=(12, 8))\n",
                "    result_image = results.plot()\n",
                "    plt.imshow(cv2.cvtColor(result_image, cv2.COLOR_BGR2RGB))\n",
                "    plt.title(\"Tespit Edilen Plakalar\")\n",
                "    plt.axis('off')\n",
                "    plt.show()\n",
                "    \n",
                "    # Tespit sonuçlarını yazdır\n",
                "    print(f\"Tespit edilen plakaların sayısı: {len(results.boxes)}\")\n",
                "    for i, box in enumerate(results.boxes):\n",
                "        print(f\"Plaka {i+1}: Konum={box.xyxy[0].tolist()}, Güven={box.conf[0].item():.2f}\")"
            ]
        },
        {
            "cell_type": "code",
            "execution_count": 10,
            "id": "e06e99c3",
            "metadata": {},
            "outputs": [
                {
                    "name": "stdout",
                    "output_type": "stream",
                    "text": [
                        "Model şu görüntü üzerinde test ediliyor: ../data/raw/ufpr-alpr/testing/track0091/track0091[01].png\n",
                        "\n",
                        "0: 416x736 1 license_plate, 171.1ms\n",
                        "Speed: 5.7ms preprocess, 171.1ms inference, 1.8ms postprocess per image at shape (1, 3, 416, 736)\n"
                    ]
                },
                {
                    "data": {
                        "text/plain": [
                            "<Figure size 1200x800 with 1 Axes>"
                        ]
                    },
                    "metadata": {},
                    "output_type": "display_data"
                },
                {
                    "name": "stdout",
                    "output_type": "stream",
                    "text": [
                        "Tespit edilen plakaların sayısı: 1\n",
                        "Plaka 1: Konum=[856.427978515625, 502.34771728515625, 916.5349731445312, 525.538818359375], Güven=0.87\n"
                    ]
                }
            ],
            "source": [
                "# Test et - UFPR-ALPR test setinden bir görüntü kullan\n",
                "test_image_path = '../data/raw/ufpr-alpr/testing/track0091/track0091[01].png'\n",
                "\n",
                "# Görüntü yoksa atlama yap\n",
                "if os.path.exists(test_image_path):\n",
                "    test_model_on_image(target_model_path, test_image_path)\n",
                "else:\n",
                "    print(f\"Test görüntüsü bulunamadı: {test_image_path}\")\n",
                "    print(\"Lütfen test için geçerli bir görüntü yolu belirtin.\")"
            ]
        }
    ],
    "metadata": {
        "jupytext": {
            "cell_metadata_filter": "-all",
            "main_language": "python",
            "notebook_metadata_filter": "-all"
        },
        "kernelspec": {
            "display_name": "Python 3",
            "language": "python",
            "name": "python3"
        },
        "language_info": {
            "codemirror_mode": {
                "name": "ipython",
                "version": 3
            },
            "file_extension": ".py",
            "mimetype": "text/x-python",
            "name": "python",
            "nbconvert_exporter": "python",
            "pygments_lexer": "ipython3",
            "version": "3.10.11"
        }
    },
    "nbformat": 4,
    "nbformat_minor": 5
}
